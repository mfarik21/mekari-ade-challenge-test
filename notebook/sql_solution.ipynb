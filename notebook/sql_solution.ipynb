{
 "cells": [
  {
   "cell_type": "code",
   "execution_count": 1,
   "id": "584327d8",
   "metadata": {},
   "outputs": [],
   "source": [
    "import pandas as pd\n",
    "import sqlite3\n",
    "\n",
    "conn=sqlite3.connect('../database/sql_solution.db')"
   ]
  },
  {
   "cell_type": "code",
   "execution_count": 2,
   "id": "3bd8f42d",
   "metadata": {},
   "outputs": [],
   "source": [
    "employees_df = pd.read_csv(\"../data/employees.csv\", parse_dates=[\"join_date\", \"resign_date\"])\n",
    "\n",
    "employees_df.to_sql(name=\"employees\", con=conn, if_exists='replace', index=False)\n",
    "conn.commit()\n",
    "\n",
    "\n",
    "timesheets_df = pd.read_csv(\"../data/timesheets.csv\", parse_dates=[\"date\"])\n",
    "\n",
    "timesheets_df.to_sql(name=\"timesheets\", con=conn, if_exists='replace', index=False)\n",
    "conn.commit()"
   ]
  },
  {
   "cell_type": "code",
   "execution_count": 3,
   "id": "7c4bcbad",
   "metadata": {},
   "outputs": [
    {
     "data": {
      "text/html": [
       "<span style=\"None\">Connecting to &#x27;sqlite:///../database/sql_solution.db&#x27;</span>"
      ],
      "text/plain": [
       "Connecting to 'sqlite:///../database/sql_solution.db'"
      ]
     },
     "metadata": {},
     "output_type": "display_data"
    }
   ],
   "source": [
    "%load_ext sql\n",
    "%sql sqlite:///../database/sql_solution.db"
   ]
  },
  {
   "cell_type": "code",
   "execution_count": 4,
   "id": "dc6aecc8",
   "metadata": {},
   "outputs": [
    {
     "data": {
      "text/html": [
       "<span style=\"None\">Running query in &#x27;sqlite:///../database/sql_solution.db&#x27;</span>"
      ],
      "text/plain": [
       "Running query in 'sqlite:///../database/sql_solution.db'"
      ]
     },
     "metadata": {},
     "output_type": "display_data"
    },
    {
     "data": {
      "text/html": [
       "<table>\n",
       "    <thead>\n",
       "        <tr>\n",
       "            <th>employe_id</th>\n",
       "            <th>branch_id</th>\n",
       "            <th>salary</th>\n",
       "            <th>join_date</th>\n",
       "            <th>resign_date</th>\n",
       "        </tr>\n",
       "    </thead>\n",
       "    <tbody>\n",
       "        <tr>\n",
       "            <td>1</td>\n",
       "            <td>3</td>\n",
       "            <td>7500000</td>\n",
       "            <td>2018-08-23 00:00:00</td>\n",
       "            <td>None</td>\n",
       "        </tr>\n",
       "        <tr>\n",
       "            <td>7</td>\n",
       "            <td>1</td>\n",
       "            <td>7500000</td>\n",
       "            <td>2017-04-28 00:00:00</td>\n",
       "            <td>None</td>\n",
       "        </tr>\n",
       "        <tr>\n",
       "            <td>8</td>\n",
       "            <td>1</td>\n",
       "            <td>13000000</td>\n",
       "            <td>2017-04-28 00:00:00</td>\n",
       "            <td>None</td>\n",
       "        </tr>\n",
       "        <tr>\n",
       "            <td>9</td>\n",
       "            <td>1</td>\n",
       "            <td>13500000</td>\n",
       "            <td>2017-12-22 00:00:00</td>\n",
       "            <td>2020-10-14 00:00:00</td>\n",
       "        </tr>\n",
       "        <tr>\n",
       "            <td>10</td>\n",
       "            <td>1</td>\n",
       "            <td>9000000</td>\n",
       "            <td>2018-03-01 00:00:00</td>\n",
       "            <td>2020-12-20 00:00:00</td>\n",
       "        </tr>\n",
       "        <tr>\n",
       "            <td>11</td>\n",
       "            <td>1</td>\n",
       "            <td>8500000</td>\n",
       "            <td>2018-07-02 00:00:00</td>\n",
       "            <td>2019-11-04 00:00:00</td>\n",
       "        </tr>\n",
       "        <tr>\n",
       "            <td>12</td>\n",
       "            <td>1</td>\n",
       "            <td>7500000</td>\n",
       "            <td>2018-07-06 00:00:00</td>\n",
       "            <td>2019-10-30 00:00:00</td>\n",
       "        </tr>\n",
       "        <tr>\n",
       "            <td>13</td>\n",
       "            <td>1</td>\n",
       "            <td>9500000</td>\n",
       "            <td>2018-07-30 00:00:00</td>\n",
       "            <td>None</td>\n",
       "        </tr>\n",
       "        <tr>\n",
       "            <td>14</td>\n",
       "            <td>1</td>\n",
       "            <td>6000000</td>\n",
       "            <td>2018-07-30 00:00:00</td>\n",
       "            <td>None</td>\n",
       "        </tr>\n",
       "        <tr>\n",
       "            <td>15</td>\n",
       "            <td>1</td>\n",
       "            <td>6000000</td>\n",
       "            <td>2020-07-01 00:00:00</td>\n",
       "            <td>None</td>\n",
       "        </tr>\n",
       "    </tbody>\n",
       "</table>\n",
       "<span style=\"font-style:italic;text-align:center;\">Truncated to <a href=\"https://jupysql.ploomber.io/en/latest/api/configuration.html#displaylimit\">displaylimit</a> of 10.</span>"
      ],
      "text/plain": [
       "+------------+-----------+----------+---------------------+---------------------+\n",
       "| employe_id | branch_id |  salary  |      join_date      |     resign_date     |\n",
       "+------------+-----------+----------+---------------------+---------------------+\n",
       "|     1      |     3     | 7500000  | 2018-08-23 00:00:00 |         None        |\n",
       "|     7      |     1     | 7500000  | 2017-04-28 00:00:00 |         None        |\n",
       "|     8      |     1     | 13000000 | 2017-04-28 00:00:00 |         None        |\n",
       "|     9      |     1     | 13500000 | 2017-12-22 00:00:00 | 2020-10-14 00:00:00 |\n",
       "|     10     |     1     | 9000000  | 2018-03-01 00:00:00 | 2020-12-20 00:00:00 |\n",
       "|     11     |     1     | 8500000  | 2018-07-02 00:00:00 | 2019-11-04 00:00:00 |\n",
       "|     12     |     1     | 7500000  | 2018-07-06 00:00:00 | 2019-10-30 00:00:00 |\n",
       "|     13     |     1     | 9500000  | 2018-07-30 00:00:00 |         None        |\n",
       "|     14     |     1     | 6000000  | 2018-07-30 00:00:00 |         None        |\n",
       "|     15     |     1     | 6000000  | 2020-07-01 00:00:00 |         None        |\n",
       "+------------+-----------+----------+---------------------+---------------------+\n",
       "Truncated to displaylimit of 10."
      ]
     },
     "execution_count": 4,
     "metadata": {},
     "output_type": "execute_result"
    }
   ],
   "source": [
    "%%sql\n",
    "\n",
    "SELECT * FROM employees"
   ]
  },
  {
   "cell_type": "code",
   "execution_count": 5,
   "id": "823ab686",
   "metadata": {},
   "outputs": [
    {
     "data": {
      "text/html": [
       "<span style=\"None\">Running query in &#x27;sqlite:///../database/sql_solution.db&#x27;</span>"
      ],
      "text/plain": [
       "Running query in 'sqlite:///../database/sql_solution.db'"
      ]
     },
     "metadata": {},
     "output_type": "display_data"
    },
    {
     "data": {
      "text/html": [
       "<table>\n",
       "    <thead>\n",
       "        <tr>\n",
       "            <th>timesheet_id</th>\n",
       "            <th>employee_id</th>\n",
       "            <th>date</th>\n",
       "            <th>checkin</th>\n",
       "            <th>checkout</th>\n",
       "        </tr>\n",
       "    </thead>\n",
       "    <tbody>\n",
       "        <tr>\n",
       "            <td>23907432</td>\n",
       "            <td>66</td>\n",
       "            <td>2019-08-21 00:00:00</td>\n",
       "            <td>08:13:31</td>\n",
       "            <td>17:05:02</td>\n",
       "        </tr>\n",
       "        <tr>\n",
       "            <td>23907433</td>\n",
       "            <td>22</td>\n",
       "            <td>2019-08-21 00:00:00</td>\n",
       "            <td>08:56:34</td>\n",
       "            <td>18:00:48</td>\n",
       "        </tr>\n",
       "        <tr>\n",
       "            <td>23907434</td>\n",
       "            <td>21</td>\n",
       "            <td>2019-08-21 00:00:00</td>\n",
       "            <td>09:45:08</td>\n",
       "            <td>18:24:06</td>\n",
       "        </tr>\n",
       "        <tr>\n",
       "            <td>23907435</td>\n",
       "            <td>63</td>\n",
       "            <td>2019-08-21 00:00:00</td>\n",
       "            <td>09:55:47</td>\n",
       "            <td>None</td>\n",
       "        </tr>\n",
       "        <tr>\n",
       "            <td>23907437</td>\n",
       "            <td>60</td>\n",
       "            <td>2019-08-21 00:00:00</td>\n",
       "            <td>09:56:05</td>\n",
       "            <td>17:31:08</td>\n",
       "        </tr>\n",
       "        <tr>\n",
       "            <td>23907443</td>\n",
       "            <td>66</td>\n",
       "            <td>2019-08-22 00:00:00</td>\n",
       "            <td>08:28:27</td>\n",
       "            <td>17:20:25</td>\n",
       "        </tr>\n",
       "        <tr>\n",
       "            <td>23907444</td>\n",
       "            <td>21</td>\n",
       "            <td>2019-08-22 00:00:00</td>\n",
       "            <td>09:23:37</td>\n",
       "            <td>18:29:51</td>\n",
       "        </tr>\n",
       "        <tr>\n",
       "            <td>23907445</td>\n",
       "            <td>60</td>\n",
       "            <td>2019-08-22 00:00:00</td>\n",
       "            <td>None</td>\n",
       "            <td>18:04:33</td>\n",
       "        </tr>\n",
       "        <tr>\n",
       "            <td>23907447</td>\n",
       "            <td>22</td>\n",
       "            <td>2019-08-23 00:00:00</td>\n",
       "            <td>08:55:59</td>\n",
       "            <td>17:59:43</td>\n",
       "        </tr>\n",
       "        <tr>\n",
       "            <td>23907448</td>\n",
       "            <td>60</td>\n",
       "            <td>2019-08-23 00:00:00</td>\n",
       "            <td>10:34:39</td>\n",
       "            <td>17:25:41</td>\n",
       "        </tr>\n",
       "    </tbody>\n",
       "</table>\n",
       "<span style=\"font-style:italic;text-align:center;\">Truncated to <a href=\"https://jupysql.ploomber.io/en/latest/api/configuration.html#displaylimit\">displaylimit</a> of 10.</span>"
      ],
      "text/plain": [
       "+--------------+-------------+---------------------+----------+----------+\n",
       "| timesheet_id | employee_id |         date        | checkin  | checkout |\n",
       "+--------------+-------------+---------------------+----------+----------+\n",
       "|   23907432   |      66     | 2019-08-21 00:00:00 | 08:13:31 | 17:05:02 |\n",
       "|   23907433   |      22     | 2019-08-21 00:00:00 | 08:56:34 | 18:00:48 |\n",
       "|   23907434   |      21     | 2019-08-21 00:00:00 | 09:45:08 | 18:24:06 |\n",
       "|   23907435   |      63     | 2019-08-21 00:00:00 | 09:55:47 |   None   |\n",
       "|   23907437   |      60     | 2019-08-21 00:00:00 | 09:56:05 | 17:31:08 |\n",
       "|   23907443   |      66     | 2019-08-22 00:00:00 | 08:28:27 | 17:20:25 |\n",
       "|   23907444   |      21     | 2019-08-22 00:00:00 | 09:23:37 | 18:29:51 |\n",
       "|   23907445   |      60     | 2019-08-22 00:00:00 |   None   | 18:04:33 |\n",
       "|   23907447   |      22     | 2019-08-23 00:00:00 | 08:55:59 | 17:59:43 |\n",
       "|   23907448   |      60     | 2019-08-23 00:00:00 | 10:34:39 | 17:25:41 |\n",
       "+--------------+-------------+---------------------+----------+----------+\n",
       "Truncated to displaylimit of 10."
      ]
     },
     "execution_count": 5,
     "metadata": {},
     "output_type": "execute_result"
    }
   ],
   "source": [
    "%%sql\n",
    "\n",
    "SELECT * FROM timesheets"
   ]
  },
  {
   "cell_type": "code",
   "execution_count": 6,
   "id": "476eef6d",
   "metadata": {},
   "outputs": [
    {
     "data": {
      "text/html": [
       "<span style=\"None\">Running query in &#x27;sqlite:///../database/sql_solution.db&#x27;</span>"
      ],
      "text/plain": [
       "Running query in 'sqlite:///../database/sql_solution.db'"
      ]
     },
     "metadata": {},
     "output_type": "display_data"
    },
    {
     "name": "stderr",
     "output_type": "stream",
     "text": [
      "RuntimeError: (sqlite3.OperationalError) table salary_per_hour already exists\n",
      "[SQL: CREATE TABLE salary_per_hour (\n",
      "    year INTEGER,\n",
      "    month INTEGER,\n",
      "    branch_id INTEGER,\n",
      "    salary_per_hour INTEGER\n",
      ");]\n",
      "(Background on this error at: https://sqlalche.me/e/20/e3q8)\n",
      "If you need help solving this issue, send us a message: https://ploomber.io/community\n"
     ]
    }
   ],
   "source": [
    "%%sql\n",
    "\n",
    "CREATE TABLE IF NOT EXISTS salary_per_hour (\n",
    "    year INTEGER,\n",
    "    month INTEGER,\n",
    "    branch_id INTEGER,\n",
    "    salary_per_hour INTEGER\n",
    ");"
   ]
  },
  {
   "cell_type": "code",
   "execution_count": null,
   "id": "c2b425c9",
   "metadata": {},
   "outputs": [],
   "source": [
    "%%sql\n",
    "\n",
    "\n",
    "INSERT INTO salary_per_hour (year, month, branch_id, salary_per_hour)\n",
    "WITH summary AS (\n",
    "    SELECT \n",
    "        strftime('%Y', t.date) AS year,\n",
    "        strftime('%m', t.date) AS month,\n",
    "        e.branch_id,\n",
    "        t.employee_id,\n",
    "        SUM(e.salary) AS salary_total,\n",
    "        SUM(\n",
    "            COALESCE(\n",
    "                (strftime('%s', t.checkout) - strftime('%s', t.checkin)) / 3600,\n",
    "                8 # default daily manhour\n",
    "            )\n",
    "        ) AS working_hours_total\n",
    "    FROM\n",
    "        timesheets t\n",
    "    LEFT JOIN\n",
    "        employees e ON t.employee_id = e.employe_id\n",
    "    WHERE\n",
    "        t.date IS NOT NULL\n",
    "    GROUP BY\n",
    "        year,\n",
    "        month,\n",
    "        branch_id\n",
    ")\n",
    "\n",
    "SELECT\n",
    "    year,\n",
    "    month,\n",
    "    branch_id,\n",
    "    ROUND(salary_total / working_hours_total, 2) AS salary_per_hour\n",
    "FROM\n",
    "    summary;\n"
   ]
  },
  {
   "cell_type": "code",
   "execution_count": null,
   "id": "31c6a389",
   "metadata": {},
   "outputs": [],
   "source": [
    "%%sql\n",
    "\n",
    "SELECT * FROM salary_per_hour"
   ]
  },
  {
   "cell_type": "code",
   "execution_count": null,
   "id": "d86dd6d0",
   "metadata": {},
   "outputs": [],
   "source": []
  }
 ],
 "metadata": {
  "kernelspec": {
   "display_name": "Python 3 (ipykernel)",
   "language": "python",
   "name": "python3"
  },
  "language_info": {
   "codemirror_mode": {
    "name": "ipython",
    "version": 3
   },
   "file_extension": ".py",
   "mimetype": "text/x-python",
   "name": "python",
   "nbconvert_exporter": "python",
   "pygments_lexer": "ipython3",
   "version": "3.9.13"
  },
  "vscode": {
   "interpreter": {
    "hash": "ead1b95f633dc9c51826328e1846203f51a198c6fb5f2884a80417ba131d4e82"
   }
  }
 },
 "nbformat": 4,
 "nbformat_minor": 5
}
