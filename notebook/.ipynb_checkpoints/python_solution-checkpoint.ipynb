{
 "cells": [
  {
   "cell_type": "code",
   "execution_count": 2,
   "id": "ca8d623e",
   "metadata": {},
   "outputs": [],
   "source": [
    "import pandas as pd\n",
    "import sqlite3\n",
    "\n",
    "conn=sqlite3.connect('salary.db')"
   ]
  },
  {
   "cell_type": "code",
   "execution_count": 4,
   "id": "ccd80564",
   "metadata": {},
   "outputs": [
    {
     "data": {
      "text/html": [
       "<div>\n",
       "<style scoped>\n",
       "    .dataframe tbody tr th:only-of-type {\n",
       "        vertical-align: middle;\n",
       "    }\n",
       "\n",
       "    .dataframe tbody tr th {\n",
       "        vertical-align: top;\n",
       "    }\n",
       "\n",
       "    .dataframe thead th {\n",
       "        text-align: right;\n",
       "    }\n",
       "</style>\n",
       "<table border=\"1\" class=\"dataframe\">\n",
       "  <thead>\n",
       "    <tr style=\"text-align: right;\">\n",
       "      <th></th>\n",
       "      <th>employe_id</th>\n",
       "      <th>branch_id</th>\n",
       "      <th>salary</th>\n",
       "      <th>join_date</th>\n",
       "      <th>resign_date</th>\n",
       "    </tr>\n",
       "  </thead>\n",
       "  <tbody>\n",
       "    <tr>\n",
       "      <th>0</th>\n",
       "      <td>1</td>\n",
       "      <td>3</td>\n",
       "      <td>7500000</td>\n",
       "      <td>2018-08-23</td>\n",
       "      <td>NaT</td>\n",
       "    </tr>\n",
       "    <tr>\n",
       "      <th>1</th>\n",
       "      <td>7</td>\n",
       "      <td>1</td>\n",
       "      <td>7500000</td>\n",
       "      <td>2017-04-28</td>\n",
       "      <td>NaT</td>\n",
       "    </tr>\n",
       "    <tr>\n",
       "      <th>2</th>\n",
       "      <td>8</td>\n",
       "      <td>1</td>\n",
       "      <td>13000000</td>\n",
       "      <td>2017-04-28</td>\n",
       "      <td>NaT</td>\n",
       "    </tr>\n",
       "    <tr>\n",
       "      <th>3</th>\n",
       "      <td>9</td>\n",
       "      <td>1</td>\n",
       "      <td>13500000</td>\n",
       "      <td>2017-12-22</td>\n",
       "      <td>2020-10-14</td>\n",
       "    </tr>\n",
       "    <tr>\n",
       "      <th>4</th>\n",
       "      <td>10</td>\n",
       "      <td>1</td>\n",
       "      <td>9000000</td>\n",
       "      <td>2018-03-01</td>\n",
       "      <td>2020-12-20</td>\n",
       "    </tr>\n",
       "  </tbody>\n",
       "</table>\n",
       "</div>"
      ],
      "text/plain": [
       "   employe_id  branch_id    salary  join_date resign_date\n",
       "0           1          3   7500000 2018-08-23         NaT\n",
       "1           7          1   7500000 2017-04-28         NaT\n",
       "2           8          1  13000000 2017-04-28         NaT\n",
       "3           9          1  13500000 2017-12-22  2020-10-14\n",
       "4          10          1   9000000 2018-03-01  2020-12-20"
      ]
     },
     "execution_count": 4,
     "metadata": {},
     "output_type": "execute_result"
    }
   ],
   "source": [
    "employees_df = pd.read_csv(\"data/employees.csv\", parse_dates=[\"join_date\", \"resign_date\"])\n",
    "employees_df.head()"
   ]
  },
  {
   "cell_type": "code",
   "execution_count": 17,
   "id": "d5ad9cbb",
   "metadata": {},
   "outputs": [
    {
     "data": {
      "text/html": [
       "<div>\n",
       "<style scoped>\n",
       "    .dataframe tbody tr th:only-of-type {\n",
       "        vertical-align: middle;\n",
       "    }\n",
       "\n",
       "    .dataframe tbody tr th {\n",
       "        vertical-align: top;\n",
       "    }\n",
       "\n",
       "    .dataframe thead th {\n",
       "        text-align: right;\n",
       "    }\n",
       "</style>\n",
       "<table border=\"1\" class=\"dataframe\">\n",
       "  <thead>\n",
       "    <tr style=\"text-align: right;\">\n",
       "      <th></th>\n",
       "      <th>timesheet_id</th>\n",
       "      <th>employee_id</th>\n",
       "      <th>date</th>\n",
       "      <th>checkin</th>\n",
       "      <th>checkout</th>\n",
       "    </tr>\n",
       "  </thead>\n",
       "  <tbody>\n",
       "    <tr>\n",
       "      <th>0</th>\n",
       "      <td>23907432</td>\n",
       "      <td>66</td>\n",
       "      <td>2019-08-21</td>\n",
       "      <td>08:13:31</td>\n",
       "      <td>17:05:02</td>\n",
       "    </tr>\n",
       "    <tr>\n",
       "      <th>1</th>\n",
       "      <td>23907433</td>\n",
       "      <td>22</td>\n",
       "      <td>2019-08-21</td>\n",
       "      <td>08:56:34</td>\n",
       "      <td>18:00:48</td>\n",
       "    </tr>\n",
       "    <tr>\n",
       "      <th>2</th>\n",
       "      <td>23907434</td>\n",
       "      <td>21</td>\n",
       "      <td>2019-08-21</td>\n",
       "      <td>09:45:08</td>\n",
       "      <td>18:24:06</td>\n",
       "    </tr>\n",
       "    <tr>\n",
       "      <th>3</th>\n",
       "      <td>23907435</td>\n",
       "      <td>63</td>\n",
       "      <td>2019-08-21</td>\n",
       "      <td>09:55:47</td>\n",
       "      <td>NaN</td>\n",
       "    </tr>\n",
       "    <tr>\n",
       "      <th>4</th>\n",
       "      <td>23907437</td>\n",
       "      <td>60</td>\n",
       "      <td>2019-08-21</td>\n",
       "      <td>09:56:05</td>\n",
       "      <td>17:31:08</td>\n",
       "    </tr>\n",
       "  </tbody>\n",
       "</table>\n",
       "</div>"
      ],
      "text/plain": [
       "   timesheet_id  employee_id       date   checkin  checkout\n",
       "0      23907432           66 2019-08-21  08:13:31  17:05:02\n",
       "1      23907433           22 2019-08-21  08:56:34  18:00:48\n",
       "2      23907434           21 2019-08-21  09:45:08  18:24:06\n",
       "3      23907435           63 2019-08-21  09:55:47       NaN\n",
       "4      23907437           60 2019-08-21  09:56:05  17:31:08"
      ]
     },
     "execution_count": 17,
     "metadata": {},
     "output_type": "execute_result"
    }
   ],
   "source": [
    "timesheets_df = pd.read_csv(\"data/timesheets.csv\", parse_dates=[\"date\"])\n",
    "timesheets_df.head()"
   ]
  },
  {
   "cell_type": "code",
   "execution_count": 15,
   "id": "9139eb0d",
   "metadata": {},
   "outputs": [
    {
     "data": {
      "text/plain": [
       "timesheet_id             int64\n",
       "employee_id              int64\n",
       "date            datetime64[ns]\n",
       "checkin                 object\n",
       "checkout                object\n",
       "dtype: object"
      ]
     },
     "execution_count": 15,
     "metadata": {},
     "output_type": "execute_result"
    }
   ],
   "source": []
  },
  {
   "cell_type": "code",
   "execution_count": null,
   "id": "af968664",
   "metadata": {},
   "outputs": [],
   "source": []
  }
 ],
 "metadata": {
  "kernelspec": {
   "display_name": "Python 3 (ipykernel)",
   "language": "python",
   "name": "python3"
  },
  "language_info": {
   "codemirror_mode": {
    "name": "ipython",
    "version": 3
   },
   "file_extension": ".py",
   "mimetype": "text/x-python",
   "name": "python",
   "nbconvert_exporter": "python",
   "pygments_lexer": "ipython3",
   "version": "3.9.13"
  }
 },
 "nbformat": 4,
 "nbformat_minor": 5
}
