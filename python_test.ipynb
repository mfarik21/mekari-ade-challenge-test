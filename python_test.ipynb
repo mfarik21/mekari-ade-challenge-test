{
 "cells": [
  {
   "cell_type": "code",
   "execution_count": 1,
   "id": "9126c283",
   "metadata": {},
   "outputs": [],
   "source": [
    "import pandas as pd\n",
    "import sqlite3"
   ]
  },
  {
   "cell_type": "code",
   "execution_count": 48,
   "id": "1faeb630",
   "metadata": {},
   "outputs": [
    {
     "data": {
      "text/html": [
       "<div>\n",
       "<style scoped>\n",
       "    .dataframe tbody tr th:only-of-type {\n",
       "        vertical-align: middle;\n",
       "    }\n",
       "\n",
       "    .dataframe tbody tr th {\n",
       "        vertical-align: top;\n",
       "    }\n",
       "\n",
       "    .dataframe thead th {\n",
       "        text-align: right;\n",
       "    }\n",
       "</style>\n",
       "<table border=\"1\" class=\"dataframe\">\n",
       "  <thead>\n",
       "    <tr style=\"text-align: right;\">\n",
       "      <th></th>\n",
       "      <th>employee_id</th>\n",
       "      <th>branch_id</th>\n",
       "      <th>salary</th>\n",
       "      <th>join_date</th>\n",
       "      <th>resign_date</th>\n",
       "    </tr>\n",
       "  </thead>\n",
       "  <tbody>\n",
       "    <tr>\n",
       "      <th>0</th>\n",
       "      <td>1</td>\n",
       "      <td>3</td>\n",
       "      <td>7500000</td>\n",
       "      <td>2018-08-23</td>\n",
       "      <td>NaT</td>\n",
       "    </tr>\n",
       "    <tr>\n",
       "      <th>1</th>\n",
       "      <td>7</td>\n",
       "      <td>1</td>\n",
       "      <td>7500000</td>\n",
       "      <td>2017-04-28</td>\n",
       "      <td>NaT</td>\n",
       "    </tr>\n",
       "    <tr>\n",
       "      <th>2</th>\n",
       "      <td>8</td>\n",
       "      <td>1</td>\n",
       "      <td>13000000</td>\n",
       "      <td>2017-04-28</td>\n",
       "      <td>NaT</td>\n",
       "    </tr>\n",
       "    <tr>\n",
       "      <th>3</th>\n",
       "      <td>9</td>\n",
       "      <td>1</td>\n",
       "      <td>13500000</td>\n",
       "      <td>2017-12-22</td>\n",
       "      <td>2020-10-14</td>\n",
       "    </tr>\n",
       "    <tr>\n",
       "      <th>4</th>\n",
       "      <td>10</td>\n",
       "      <td>1</td>\n",
       "      <td>9000000</td>\n",
       "      <td>2018-03-01</td>\n",
       "      <td>2020-12-20</td>\n",
       "    </tr>\n",
       "  </tbody>\n",
       "</table>\n",
       "</div>"
      ],
      "text/plain": [
       "   employee_id  branch_id    salary  join_date resign_date\n",
       "0            1          3   7500000 2018-08-23         NaT\n",
       "1            7          1   7500000 2017-04-28         NaT\n",
       "2            8          1  13000000 2017-04-28         NaT\n",
       "3            9          1  13500000 2017-12-22  2020-10-14\n",
       "4           10          1   9000000 2018-03-01  2020-12-20"
      ]
     },
     "execution_count": 48,
     "metadata": {},
     "output_type": "execute_result"
    }
   ],
   "source": [
    "employees_df = pd.read_csv(\"data/employees.csv\", parse_dates=[\"join_date\", \"resign_date\"])\n",
    "employees_df = employees_df.rename(columns={\"employe_id\": \"employee_id\"})\n",
    "employees_df.head()\n"
   ]
  },
  {
   "cell_type": "code",
   "execution_count": 49,
   "id": "91bcaa51",
   "metadata": {},
   "outputs": [
    {
     "data": {
      "text/plain": [
       "39714"
      ]
     },
     "execution_count": 49,
     "metadata": {},
     "output_type": "execute_result"
    }
   ],
   "source": [
    "timesheets_df = pd.read_csv(\"data/timesheets.csv\", parse_dates=[\"date\"])\n",
    "\n",
    "timesheets_df['checkin'] = pd.to_datetime(timesheets_df['checkin'], format='%H:%M:%S')\n",
    "timesheets_df['checkout'] = pd.to_datetime(timesheets_df['checkout'], format='%H:%M:%S')\n",
    "\n",
    "\n",
    "timesheets_df.head()\n",
    "timesheets_df.shape[0]"
   ]
  },
  {
   "cell_type": "code",
   "execution_count": 50,
   "id": "0df9a8bb",
   "metadata": {},
   "outputs": [
    {
     "data": {
      "text/html": [
       "<div>\n",
       "<style scoped>\n",
       "    .dataframe tbody tr th:only-of-type {\n",
       "        vertical-align: middle;\n",
       "    }\n",
       "\n",
       "    .dataframe tbody tr th {\n",
       "        vertical-align: top;\n",
       "    }\n",
       "\n",
       "    .dataframe thead th {\n",
       "        text-align: right;\n",
       "    }\n",
       "</style>\n",
       "<table border=\"1\" class=\"dataframe\">\n",
       "  <thead>\n",
       "    <tr style=\"text-align: right;\">\n",
       "      <th></th>\n",
       "      <th>timesheet_id</th>\n",
       "      <th>employee_id</th>\n",
       "      <th>date</th>\n",
       "      <th>checkin</th>\n",
       "      <th>checkout</th>\n",
       "      <th>branch_id</th>\n",
       "      <th>salary</th>\n",
       "      <th>join_date</th>\n",
       "      <th>resign_date</th>\n",
       "    </tr>\n",
       "  </thead>\n",
       "  <tbody>\n",
       "    <tr>\n",
       "      <th>0</th>\n",
       "      <td>23907432</td>\n",
       "      <td>66</td>\n",
       "      <td>2019-08-21</td>\n",
       "      <td>1900-01-01 08:13:31</td>\n",
       "      <td>1900-01-01 17:05:02</td>\n",
       "      <td>2</td>\n",
       "      <td>10000000</td>\n",
       "      <td>2018-12-10</td>\n",
       "      <td>NaT</td>\n",
       "    </tr>\n",
       "    <tr>\n",
       "      <th>1</th>\n",
       "      <td>23907433</td>\n",
       "      <td>22</td>\n",
       "      <td>2019-08-21</td>\n",
       "      <td>1900-01-01 08:56:34</td>\n",
       "      <td>1900-01-01 18:00:48</td>\n",
       "      <td>1</td>\n",
       "      <td>8000000</td>\n",
       "      <td>2019-01-21</td>\n",
       "      <td>NaT</td>\n",
       "    </tr>\n",
       "    <tr>\n",
       "      <th>2</th>\n",
       "      <td>23907434</td>\n",
       "      <td>21</td>\n",
       "      <td>2019-08-21</td>\n",
       "      <td>1900-01-01 09:45:08</td>\n",
       "      <td>1900-01-01 18:24:06</td>\n",
       "      <td>1</td>\n",
       "      <td>13500000</td>\n",
       "      <td>2019-01-02</td>\n",
       "      <td>NaT</td>\n",
       "    </tr>\n",
       "    <tr>\n",
       "      <th>3</th>\n",
       "      <td>23907435</td>\n",
       "      <td>63</td>\n",
       "      <td>2019-08-21</td>\n",
       "      <td>1900-01-01 09:55:47</td>\n",
       "      <td>NaT</td>\n",
       "      <td>2</td>\n",
       "      <td>13500000</td>\n",
       "      <td>2018-07-30</td>\n",
       "      <td>2019-10-18</td>\n",
       "    </tr>\n",
       "    <tr>\n",
       "      <th>4</th>\n",
       "      <td>23907437</td>\n",
       "      <td>60</td>\n",
       "      <td>2019-08-21</td>\n",
       "      <td>1900-01-01 09:56:05</td>\n",
       "      <td>1900-01-01 17:31:08</td>\n",
       "      <td>2</td>\n",
       "      <td>12500000</td>\n",
       "      <td>2017-06-01</td>\n",
       "      <td>2020-09-04</td>\n",
       "    </tr>\n",
       "  </tbody>\n",
       "</table>\n",
       "</div>"
      ],
      "text/plain": [
       "   timesheet_id  employee_id       date             checkin  \\\n",
       "0      23907432           66 2019-08-21 1900-01-01 08:13:31   \n",
       "1      23907433           22 2019-08-21 1900-01-01 08:56:34   \n",
       "2      23907434           21 2019-08-21 1900-01-01 09:45:08   \n",
       "3      23907435           63 2019-08-21 1900-01-01 09:55:47   \n",
       "4      23907437           60 2019-08-21 1900-01-01 09:56:05   \n",
       "\n",
       "             checkout  branch_id    salary  join_date resign_date  \n",
       "0 1900-01-01 17:05:02          2  10000000 2018-12-10         NaT  \n",
       "1 1900-01-01 18:00:48          1   8000000 2019-01-21         NaT  \n",
       "2 1900-01-01 18:24:06          1  13500000 2019-01-02         NaT  \n",
       "3                 NaT          2  13500000 2018-07-30  2019-10-18  \n",
       "4 1900-01-01 17:31:08          2  12500000 2017-06-01  2020-09-04  "
      ]
     },
     "execution_count": 50,
     "metadata": {},
     "output_type": "execute_result"
    }
   ],
   "source": [
    "df = timesheets_df.merge(employees_df, how=\"left\", on=\"employee_id\")\n",
    "df.head()"
   ]
  },
  {
   "cell_type": "code",
   "execution_count": 27,
   "id": "1b4adfd7",
   "metadata": {},
   "outputs": [
    {
     "data": {
      "text/html": [
       "<div>\n",
       "<style scoped>\n",
       "    .dataframe tbody tr th:only-of-type {\n",
       "        vertical-align: middle;\n",
       "    }\n",
       "\n",
       "    .dataframe tbody tr th {\n",
       "        vertical-align: top;\n",
       "    }\n",
       "\n",
       "    .dataframe thead th {\n",
       "        text-align: right;\n",
       "    }\n",
       "</style>\n",
       "<table border=\"1\" class=\"dataframe\">\n",
       "  <thead>\n",
       "    <tr style=\"text-align: right;\">\n",
       "      <th></th>\n",
       "      <th>timesheet_id</th>\n",
       "      <th>checoutin</th>\n",
       "    </tr>\n",
       "  </thead>\n",
       "  <tbody>\n",
       "    <tr>\n",
       "      <th>0</th>\n",
       "      <td>23907432</td>\n",
       "      <td>8.0</td>\n",
       "    </tr>\n",
       "    <tr>\n",
       "      <th>1</th>\n",
       "      <td>23907433</td>\n",
       "      <td>9.0</td>\n",
       "    </tr>\n",
       "    <tr>\n",
       "      <th>2</th>\n",
       "      <td>23907434</td>\n",
       "      <td>8.0</td>\n",
       "    </tr>\n",
       "    <tr>\n",
       "      <th>3</th>\n",
       "      <td>23907435</td>\n",
       "      <td>NaN</td>\n",
       "    </tr>\n",
       "    <tr>\n",
       "      <th>4</th>\n",
       "      <td>23907437</td>\n",
       "      <td>7.0</td>\n",
       "    </tr>\n",
       "    <tr>\n",
       "      <th>...</th>\n",
       "      <td>...</td>\n",
       "      <td>...</td>\n",
       "    </tr>\n",
       "    <tr>\n",
       "      <th>39787</th>\n",
       "      <td>70649593</td>\n",
       "      <td>8.0</td>\n",
       "    </tr>\n",
       "    <tr>\n",
       "      <th>39788</th>\n",
       "      <td>70649597</td>\n",
       "      <td>9.0</td>\n",
       "    </tr>\n",
       "    <tr>\n",
       "      <th>39789</th>\n",
       "      <td>70650186</td>\n",
       "      <td>NaN</td>\n",
       "    </tr>\n",
       "    <tr>\n",
       "      <th>39790</th>\n",
       "      <td>70650458</td>\n",
       "      <td>9.0</td>\n",
       "    </tr>\n",
       "    <tr>\n",
       "      <th>39791</th>\n",
       "      <td>70685696</td>\n",
       "      <td>NaN</td>\n",
       "    </tr>\n",
       "  </tbody>\n",
       "</table>\n",
       "<p>39792 rows × 2 columns</p>\n",
       "</div>"
      ],
      "text/plain": [
       "       timesheet_id  checoutin\n",
       "0          23907432        8.0\n",
       "1          23907433        9.0\n",
       "2          23907434        8.0\n",
       "3          23907435        NaN\n",
       "4          23907437        7.0\n",
       "...             ...        ...\n",
       "39787      70649593        8.0\n",
       "39788      70649597        9.0\n",
       "39789      70650186        NaN\n",
       "39790      70650458        9.0\n",
       "39791      70685696        NaN\n",
       "\n",
       "[39792 rows x 2 columns]"
      ]
     },
     "execution_count": 27,
     "metadata": {},
     "output_type": "execute_result"
    }
   ],
   "source": [
    "# df[\"checoutin\"] = (df['checkout'] - df['checkin']).apply(lambda x: x.seconds //3600)\n",
    "# df[[\"timesheet_id\", \"checoutin\"]].sort_values(by=[\"timesheet_id\"])"
   ]
  },
  {
   "cell_type": "code",
   "execution_count": 51,
   "id": "9088e1f5",
   "metadata": {},
   "outputs": [
    {
     "data": {
      "text/plain": [
       "39792"
      ]
     },
     "execution_count": 51,
     "metadata": {},
     "output_type": "execute_result"
    }
   ],
   "source": [
    "df.shape[0]"
   ]
  },
  {
   "cell_type": "code",
   "execution_count": 55,
   "id": "137f14e9",
   "metadata": {},
   "outputs": [
    {
     "data": {
      "text/plain": [
       "328530.0"
      ]
     },
     "execution_count": 55,
     "metadata": {},
     "output_type": "execute_result"
    }
   ],
   "source": [
    "df = df.dropna(subset=[\"date\"])\n",
    "df['year'] = df['date'].dt.year\n",
    "df['month'] = df['date'].dt.month\n",
    "df['working_hours'] = (df['checkout'] - df['checkin']).apply(lambda x: x.seconds // 3600)\n",
    "df['working_hours'] = df['working_hours'].fillna(8)\n",
    "df['working_hours'].sum()"
   ]
  },
  {
   "cell_type": "code",
   "execution_count": null,
   "id": "4c905f05",
   "metadata": {},
   "outputs": [],
   "source": []
  },
  {
   "cell_type": "code",
   "execution_count": 59,
   "id": "67a73325",
   "metadata": {},
   "outputs": [],
   "source": [
    "result = df.groupby(['year', 'month', 'branch_id']).agg({'salary': 'sum', 'working_hours': 'sum'}).reset_index()\n",
    "result['salary_per_hour'] = round(result['salary'] / result['working_hours'], 2)\n"
   ]
  },
  {
   "cell_type": "code",
   "execution_count": 57,
   "id": "f8ae1607",
   "metadata": {},
   "outputs": [
    {
     "data": {
      "text/html": [
       "<div>\n",
       "<style scoped>\n",
       "    .dataframe tbody tr th:only-of-type {\n",
       "        vertical-align: middle;\n",
       "    }\n",
       "\n",
       "    .dataframe tbody tr th {\n",
       "        vertical-align: top;\n",
       "    }\n",
       "\n",
       "    .dataframe thead th {\n",
       "        text-align: right;\n",
       "    }\n",
       "</style>\n",
       "<table border=\"1\" class=\"dataframe\">\n",
       "  <thead>\n",
       "    <tr style=\"text-align: right;\">\n",
       "      <th></th>\n",
       "      <th>year</th>\n",
       "      <th>month</th>\n",
       "      <th>branch_id</th>\n",
       "      <th>salary</th>\n",
       "      <th>working_hours</th>\n",
       "      <th>salary_per_hour</th>\n",
       "    </tr>\n",
       "  </thead>\n",
       "  <tbody>\n",
       "    <tr>\n",
       "      <th>0</th>\n",
       "      <td>2019</td>\n",
       "      <td>8</td>\n",
       "      <td>1</td>\n",
       "      <td>150500000</td>\n",
       "      <td>119.0</td>\n",
       "      <td>1264706.0</td>\n",
       "    </tr>\n",
       "    <tr>\n",
       "      <th>1</th>\n",
       "      <td>2019</td>\n",
       "      <td>8</td>\n",
       "      <td>2</td>\n",
       "      <td>252000000</td>\n",
       "      <td>163.0</td>\n",
       "      <td>1546012.0</td>\n",
       "    </tr>\n",
       "    <tr>\n",
       "      <th>2</th>\n",
       "      <td>2019</td>\n",
       "      <td>8</td>\n",
       "      <td>3</td>\n",
       "      <td>26000000</td>\n",
       "      <td>16.0</td>\n",
       "      <td>1625000.0</td>\n",
       "    </tr>\n",
       "    <tr>\n",
       "      <th>3</th>\n",
       "      <td>2019</td>\n",
       "      <td>9</td>\n",
       "      <td>1</td>\n",
       "      <td>1691000000</td>\n",
       "      <td>1488.0</td>\n",
       "      <td>1136425.0</td>\n",
       "    </tr>\n",
       "    <tr>\n",
       "      <th>4</th>\n",
       "      <td>2019</td>\n",
       "      <td>9</td>\n",
       "      <td>2</td>\n",
       "      <td>765000000</td>\n",
       "      <td>519.0</td>\n",
       "      <td>1473988.0</td>\n",
       "    </tr>\n",
       "    <tr>\n",
       "      <th>...</th>\n",
       "      <td>...</td>\n",
       "      <td>...</td>\n",
       "      <td>...</td>\n",
       "      <td>...</td>\n",
       "      <td>...</td>\n",
       "      <td>...</td>\n",
       "    </tr>\n",
       "    <tr>\n",
       "      <th>234</th>\n",
       "      <td>2020</td>\n",
       "      <td>12</td>\n",
       "      <td>2633</td>\n",
       "      <td>551500000</td>\n",
       "      <td>348.0</td>\n",
       "      <td>1584770.0</td>\n",
       "    </tr>\n",
       "    <tr>\n",
       "      <th>235</th>\n",
       "      <td>2020</td>\n",
       "      <td>12</td>\n",
       "      <td>2635</td>\n",
       "      <td>147000000</td>\n",
       "      <td>146.0</td>\n",
       "      <td>1006849.0</td>\n",
       "    </tr>\n",
       "    <tr>\n",
       "      <th>236</th>\n",
       "      <td>2020</td>\n",
       "      <td>12</td>\n",
       "      <td>3092</td>\n",
       "      <td>795000000</td>\n",
       "      <td>768.0</td>\n",
       "      <td>1035156.0</td>\n",
       "    </tr>\n",
       "    <tr>\n",
       "      <th>237</th>\n",
       "      <td>2020</td>\n",
       "      <td>12</td>\n",
       "      <td>11265</td>\n",
       "      <td>187000000</td>\n",
       "      <td>152.0</td>\n",
       "      <td>1230263.0</td>\n",
       "    </tr>\n",
       "    <tr>\n",
       "      <th>238</th>\n",
       "      <td>2020</td>\n",
       "      <td>12</td>\n",
       "      <td>12722</td>\n",
       "      <td>91000000</td>\n",
       "      <td>93.0</td>\n",
       "      <td>978495.0</td>\n",
       "    </tr>\n",
       "  </tbody>\n",
       "</table>\n",
       "<p>239 rows × 6 columns</p>\n",
       "</div>"
      ],
      "text/plain": [
       "     year  month  branch_id      salary  working_hours  salary_per_hour\n",
       "0    2019      8          1   150500000          119.0        1264706.0\n",
       "1    2019      8          2   252000000          163.0        1546012.0\n",
       "2    2019      8          3    26000000           16.0        1625000.0\n",
       "3    2019      9          1  1691000000         1488.0        1136425.0\n",
       "4    2019      9          2   765000000          519.0        1473988.0\n",
       "..    ...    ...        ...         ...            ...              ...\n",
       "234  2020     12       2633   551500000          348.0        1584770.0\n",
       "235  2020     12       2635   147000000          146.0        1006849.0\n",
       "236  2020     12       3092   795000000          768.0        1035156.0\n",
       "237  2020     12      11265   187000000          152.0        1230263.0\n",
       "238  2020     12      12722    91000000           93.0         978495.0\n",
       "\n",
       "[239 rows x 6 columns]"
      ]
     },
     "execution_count": 57,
     "metadata": {},
     "output_type": "execute_result"
    }
   ],
   "source": [
    "result"
   ]
  },
  {
   "cell_type": "code",
   "execution_count": 60,
   "id": "8b552213",
   "metadata": {},
   "outputs": [
    {
     "ename": "OperationalError",
     "evalue": "database is locked",
     "output_type": "error",
     "traceback": [
      "\u001b[0;31m---------------------------------------------------------------------------\u001b[0m",
      "\u001b[0;31mOperationalError\u001b[0m                          Traceback (most recent call last)",
      "\u001b[0;32m/tmp/ipykernel_180628/3592327578.py\u001b[0m in \u001b[0;36m<module>\u001b[0;34m\u001b[0m\n\u001b[1;32m      1\u001b[0m \u001b[0mconn\u001b[0m\u001b[0;34m=\u001b[0m\u001b[0msqlite3\u001b[0m\u001b[0;34m.\u001b[0m\u001b[0mconnect\u001b[0m\u001b[0;34m(\u001b[0m\u001b[0;34m'salary_2.db'\u001b[0m\u001b[0;34m)\u001b[0m\u001b[0;34m\u001b[0m\u001b[0;34m\u001b[0m\u001b[0m\n\u001b[1;32m      2\u001b[0m \u001b[0;34m\u001b[0m\u001b[0m\n\u001b[0;32m----> 3\u001b[0;31m \u001b[0mresult\u001b[0m\u001b[0;34m[\u001b[0m\u001b[0;34m[\u001b[0m\u001b[0;34m\"year\"\u001b[0m\u001b[0;34m,\u001b[0m \u001b[0;34m\"month\"\u001b[0m\u001b[0;34m,\u001b[0m \u001b[0;34m\"branch_id\"\u001b[0m\u001b[0;34m,\u001b[0m \u001b[0;34m\"salary_per_hour\"\u001b[0m\u001b[0;34m]\u001b[0m\u001b[0;34m]\u001b[0m\u001b[0;34m.\u001b[0m\u001b[0mto_sql\u001b[0m\u001b[0;34m(\u001b[0m\u001b[0mname\u001b[0m\u001b[0;34m=\u001b[0m\u001b[0;34m\"salary_per_hour\"\u001b[0m\u001b[0;34m,\u001b[0m \u001b[0mcon\u001b[0m\u001b[0;34m=\u001b[0m\u001b[0mconn\u001b[0m\u001b[0;34m,\u001b[0m \u001b[0mif_exists\u001b[0m\u001b[0;34m=\u001b[0m\u001b[0;34m'append'\u001b[0m\u001b[0;34m,\u001b[0m \u001b[0mindex\u001b[0m\u001b[0;34m=\u001b[0m\u001b[0;32mFalse\u001b[0m\u001b[0;34m)\u001b[0m\u001b[0;34m\u001b[0m\u001b[0;34m\u001b[0m\u001b[0m\n\u001b[0m\u001b[1;32m      4\u001b[0m \u001b[0mconn\u001b[0m\u001b[0;34m.\u001b[0m\u001b[0mcommit\u001b[0m\u001b[0;34m(\u001b[0m\u001b[0;34m)\u001b[0m\u001b[0;34m\u001b[0m\u001b[0;34m\u001b[0m\u001b[0m\n",
      "\u001b[0;32m~/anaconda3/lib/python3.9/site-packages/pandas/core/generic.py\u001b[0m in \u001b[0;36mto_sql\u001b[0;34m(self, name, con, schema, if_exists, index, index_label, chunksize, dtype, method)\u001b[0m\n\u001b[1;32m   2985\u001b[0m         \u001b[0;32mfrom\u001b[0m \u001b[0mpandas\u001b[0m\u001b[0;34m.\u001b[0m\u001b[0mio\u001b[0m \u001b[0;32mimport\u001b[0m \u001b[0msql\u001b[0m\u001b[0;34m\u001b[0m\u001b[0;34m\u001b[0m\u001b[0m\n\u001b[1;32m   2986\u001b[0m \u001b[0;34m\u001b[0m\u001b[0m\n\u001b[0;32m-> 2987\u001b[0;31m         return sql.to_sql(\n\u001b[0m\u001b[1;32m   2988\u001b[0m             \u001b[0mself\u001b[0m\u001b[0;34m,\u001b[0m\u001b[0;34m\u001b[0m\u001b[0;34m\u001b[0m\u001b[0m\n\u001b[1;32m   2989\u001b[0m             \u001b[0mname\u001b[0m\u001b[0;34m,\u001b[0m\u001b[0;34m\u001b[0m\u001b[0;34m\u001b[0m\u001b[0m\n",
      "\u001b[0;32m~/anaconda3/lib/python3.9/site-packages/pandas/io/sql.py\u001b[0m in \u001b[0;36mto_sql\u001b[0;34m(frame, name, con, schema, if_exists, index, index_label, chunksize, dtype, method, engine, **engine_kwargs)\u001b[0m\n\u001b[1;32m    693\u001b[0m         )\n\u001b[1;32m    694\u001b[0m \u001b[0;34m\u001b[0m\u001b[0m\n\u001b[0;32m--> 695\u001b[0;31m     return pandas_sql.to_sql(\n\u001b[0m\u001b[1;32m    696\u001b[0m         \u001b[0mframe\u001b[0m\u001b[0;34m,\u001b[0m\u001b[0;34m\u001b[0m\u001b[0;34m\u001b[0m\u001b[0m\n\u001b[1;32m    697\u001b[0m         \u001b[0mname\u001b[0m\u001b[0;34m,\u001b[0m\u001b[0;34m\u001b[0m\u001b[0;34m\u001b[0m\u001b[0m\n",
      "\u001b[0;32m~/anaconda3/lib/python3.9/site-packages/pandas/io/sql.py\u001b[0m in \u001b[0;36mto_sql\u001b[0;34m(self, frame, name, if_exists, index, index_label, schema, chunksize, dtype, method, **kwargs)\u001b[0m\n\u001b[1;32m   2186\u001b[0m         )\n\u001b[1;32m   2187\u001b[0m         \u001b[0mtable\u001b[0m\u001b[0;34m.\u001b[0m\u001b[0mcreate\u001b[0m\u001b[0;34m(\u001b[0m\u001b[0;34m)\u001b[0m\u001b[0;34m\u001b[0m\u001b[0;34m\u001b[0m\u001b[0m\n\u001b[0;32m-> 2188\u001b[0;31m         \u001b[0;32mreturn\u001b[0m \u001b[0mtable\u001b[0m\u001b[0;34m.\u001b[0m\u001b[0minsert\u001b[0m\u001b[0;34m(\u001b[0m\u001b[0mchunksize\u001b[0m\u001b[0;34m,\u001b[0m \u001b[0mmethod\u001b[0m\u001b[0;34m)\u001b[0m\u001b[0;34m\u001b[0m\u001b[0;34m\u001b[0m\u001b[0m\n\u001b[0m\u001b[1;32m   2189\u001b[0m \u001b[0;34m\u001b[0m\u001b[0m\n\u001b[1;32m   2190\u001b[0m     \u001b[0;32mdef\u001b[0m \u001b[0mhas_table\u001b[0m\u001b[0;34m(\u001b[0m\u001b[0mself\u001b[0m\u001b[0;34m,\u001b[0m \u001b[0mname\u001b[0m\u001b[0;34m:\u001b[0m \u001b[0mstr\u001b[0m\u001b[0;34m,\u001b[0m \u001b[0mschema\u001b[0m\u001b[0;34m:\u001b[0m \u001b[0mstr\u001b[0m \u001b[0;34m|\u001b[0m \u001b[0;32mNone\u001b[0m \u001b[0;34m=\u001b[0m \u001b[0;32mNone\u001b[0m\u001b[0;34m)\u001b[0m \u001b[0;34m->\u001b[0m \u001b[0mbool\u001b[0m\u001b[0;34m:\u001b[0m\u001b[0;34m\u001b[0m\u001b[0;34m\u001b[0m\u001b[0m\n",
      "\u001b[0;32m~/anaconda3/lib/python3.9/site-packages/pandas/io/sql.py\u001b[0m in \u001b[0;36minsert\u001b[0;34m(self, chunksize, method)\u001b[0m\n\u001b[1;32m    950\u001b[0m                         \u001b[0mtotal_inserted\u001b[0m \u001b[0;34m=\u001b[0m \u001b[0mnum_inserted\u001b[0m\u001b[0;34m\u001b[0m\u001b[0;34m\u001b[0m\u001b[0m\n\u001b[1;32m    951\u001b[0m                     \u001b[0;32melse\u001b[0m\u001b[0;34m:\u001b[0m\u001b[0;34m\u001b[0m\u001b[0;34m\u001b[0m\u001b[0m\n\u001b[0;32m--> 952\u001b[0;31m                         \u001b[0mtotal_inserted\u001b[0m \u001b[0;34m+=\u001b[0m \u001b[0mnum_inserted\u001b[0m\u001b[0;34m\u001b[0m\u001b[0;34m\u001b[0m\u001b[0m\n\u001b[0m\u001b[1;32m    953\u001b[0m         \u001b[0;32mreturn\u001b[0m \u001b[0mtotal_inserted\u001b[0m\u001b[0;34m\u001b[0m\u001b[0;34m\u001b[0m\u001b[0m\n\u001b[1;32m    954\u001b[0m \u001b[0;34m\u001b[0m\u001b[0m\n",
      "\u001b[0;32m~/anaconda3/lib/python3.9/contextlib.py\u001b[0m in \u001b[0;36m__exit__\u001b[0;34m(self, typ, value, traceback)\u001b[0m\n\u001b[1;32m    124\u001b[0m         \u001b[0;32mif\u001b[0m \u001b[0mtyp\u001b[0m \u001b[0;32mis\u001b[0m \u001b[0;32mNone\u001b[0m\u001b[0;34m:\u001b[0m\u001b[0;34m\u001b[0m\u001b[0;34m\u001b[0m\u001b[0m\n\u001b[1;32m    125\u001b[0m             \u001b[0;32mtry\u001b[0m\u001b[0;34m:\u001b[0m\u001b[0;34m\u001b[0m\u001b[0;34m\u001b[0m\u001b[0m\n\u001b[0;32m--> 126\u001b[0;31m                 \u001b[0mnext\u001b[0m\u001b[0;34m(\u001b[0m\u001b[0mself\u001b[0m\u001b[0;34m.\u001b[0m\u001b[0mgen\u001b[0m\u001b[0;34m)\u001b[0m\u001b[0;34m\u001b[0m\u001b[0;34m\u001b[0m\u001b[0m\n\u001b[0m\u001b[1;32m    127\u001b[0m             \u001b[0;32mexcept\u001b[0m \u001b[0mStopIteration\u001b[0m\u001b[0;34m:\u001b[0m\u001b[0;34m\u001b[0m\u001b[0;34m\u001b[0m\u001b[0m\n\u001b[1;32m    128\u001b[0m                 \u001b[0;32mreturn\u001b[0m \u001b[0;32mFalse\u001b[0m\u001b[0;34m\u001b[0m\u001b[0;34m\u001b[0m\u001b[0m\n",
      "\u001b[0;32m~/anaconda3/lib/python3.9/site-packages/pandas/io/sql.py\u001b[0m in \u001b[0;36mrun_transaction\u001b[0;34m(self)\u001b[0m\n\u001b[1;32m   2006\u001b[0m         \u001b[0;32mtry\u001b[0m\u001b[0;34m:\u001b[0m\u001b[0;34m\u001b[0m\u001b[0;34m\u001b[0m\u001b[0m\n\u001b[1;32m   2007\u001b[0m             \u001b[0;32myield\u001b[0m \u001b[0mcur\u001b[0m\u001b[0;34m\u001b[0m\u001b[0;34m\u001b[0m\u001b[0m\n\u001b[0;32m-> 2008\u001b[0;31m             \u001b[0mself\u001b[0m\u001b[0;34m.\u001b[0m\u001b[0mcon\u001b[0m\u001b[0;34m.\u001b[0m\u001b[0mcommit\u001b[0m\u001b[0;34m(\u001b[0m\u001b[0;34m)\u001b[0m\u001b[0;34m\u001b[0m\u001b[0;34m\u001b[0m\u001b[0m\n\u001b[0m\u001b[1;32m   2009\u001b[0m         \u001b[0;32mexcept\u001b[0m \u001b[0mException\u001b[0m\u001b[0;34m:\u001b[0m\u001b[0;34m\u001b[0m\u001b[0;34m\u001b[0m\u001b[0m\n\u001b[1;32m   2010\u001b[0m             \u001b[0mself\u001b[0m\u001b[0;34m.\u001b[0m\u001b[0mcon\u001b[0m\u001b[0;34m.\u001b[0m\u001b[0mrollback\u001b[0m\u001b[0;34m(\u001b[0m\u001b[0;34m)\u001b[0m\u001b[0;34m\u001b[0m\u001b[0;34m\u001b[0m\u001b[0m\n",
      "\u001b[0;31mOperationalError\u001b[0m: database is locked"
     ]
    }
   ],
   "source": [
    "conn=sqlite3.connect('salary_2.db')\n",
    "\n",
    "result[[\"year\", \"month\", \"branch_id\", \"salary_per_hour\"]].to_sql(name=\"salary_per_hour\", con=conn, if_exists='append', index=False)\n",
    "conn.commit()\n"
   ]
  },
  {
   "cell_type": "code",
   "execution_count": null,
   "id": "f533b5ca",
   "metadata": {},
   "outputs": [],
   "source": [
    "%load_ext sql\n",
    "%sql sqlite:///salary_2.db"
   ]
  },
  {
   "cell_type": "code",
   "execution_count": null,
   "id": "a2dccf59",
   "metadata": {},
   "outputs": [],
   "source": [
    "%%sql \n",
    "SELECT * FROM salary_per_hour"
   ]
  },
  {
   "cell_type": "code",
   "execution_count": 34,
   "id": "f64af217",
   "metadata": {},
   "outputs": [
    {
     "data": {
      "text/html": [
       "<span style=\"None\">Running query in &#x27;sqlite:///salary_2.db&#x27;</span>"
      ],
      "text/plain": [
       "Running query in 'sqlite:///salary_2.db'"
      ]
     },
     "metadata": {},
     "output_type": "display_data"
    },
    {
     "name": "stderr",
     "output_type": "stream",
     "text": [
      "RuntimeError: If using snippets, you may pass the --with argument explicitly.\n",
      "For more details please refer: https://jupysql.ploomber.io/en/latest/compose.html#with-argument\n",
      "\n",
      "\n",
      "Original error message from DB driver:\n",
      "(sqlite3.OperationalError) no such table: timesheets\n",
      "[SQL: SELECT\n",
      "COUNT(*),\n",
      "SUM((strftime('%s', t.checkout) - strftime('%s', t.checkin)) / 3600)\n",
      "FROM timesheets t]\n",
      "(Background on this error at: https://sqlalche.me/e/20/e3q8)\n",
      "\n",
      "If you need help solving this issue, send us a message: https://ploomber.io/community\n"
     ]
    }
   ],
   "source": []
  },
  {
   "cell_type": "code",
   "execution_count": null,
   "id": "6887fe11",
   "metadata": {},
   "outputs": [],
   "source": []
  }
 ],
 "metadata": {
  "kernelspec": {
   "display_name": "Python 3 (ipykernel)",
   "language": "python",
   "name": "python3"
  },
  "language_info": {
   "codemirror_mode": {
    "name": "ipython",
    "version": 3
   },
   "file_extension": ".py",
   "mimetype": "text/x-python",
   "name": "python",
   "nbconvert_exporter": "python",
   "pygments_lexer": "ipython3",
   "version": "3.9.13"
  }
 },
 "nbformat": 4,
 "nbformat_minor": 5
}
